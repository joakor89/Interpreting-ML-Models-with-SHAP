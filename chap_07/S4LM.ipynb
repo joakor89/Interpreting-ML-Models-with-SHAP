{
 "cells": [
  {
   "cell_type": "markdown",
   "id": "15292649-3842-4df8-9ca7-b078009b4c78",
   "metadata": {},
   "source": [
    "# SHAP for Linear Models\n",
    "\n",
    "### Loading Libraries"
   ]
  },
  {
   "cell_type": "code",
   "execution_count": 6,
   "id": "58f09830-095a-4aef-ad7c-cd2b17b7a5e7",
   "metadata": {},
   "outputs": [],
   "source": [
    "# Numerical Computing\n",
    "import numpy as np\n",
    "\n",
    "# Data Manipulation\n",
    "import pandas as pd\n",
    "\n",
    "# Data Visualization\n",
    "import seaborn as sns\n",
    "\n",
    "# SHAP\n",
    "\n",
    "# Tabulate\n",
    "from tabulate import tabulate"
   ]
  },
  {
   "cell_type": "markdown",
   "id": "bbfb8bfa-aeef-404d-99ec-0981a61c478f",
   "metadata": {},
   "source": [
    "### Retrieving The Wine Data"
   ]
  },
  {
   "cell_type": "code",
   "execution_count": 2,
   "id": "096cb65a-c2c9-46fb-a464-006b88433c0c",
   "metadata": {},
   "outputs": [],
   "source": [
    "url = 'https://archive.ics.uci.edu/ml/' \\\n",
    "        'machine-learning-databases/' \\\n",
    "        'wine-quality/winequality-white.csv'"
   ]
  },
  {
   "cell_type": "code",
   "execution_count": 3,
   "id": "fbe5a308-dcff-45a2-afb0-132efab33124",
   "metadata": {},
   "outputs": [],
   "source": [
    "file_name = 'wine.csv'"
   ]
  },
  {
   "cell_type": "code",
   "execution_count": 4,
   "id": "5bfc8380-2e6c-4370-9a61-0ccf29dffbcc",
   "metadata": {},
   "outputs": [
    {
     "name": "stdout",
     "output_type": "stream",
     "text": [
      "Downloading wine.csv from https://archive.ics.uci.edu/ml/machine-learning-databases/wine-quality/winequality-white.csv...\n",
      "Download Complete\n"
     ]
    }
   ],
   "source": [
    "# Check if the file exists in the current directory, as follows:\n",
    "try:\n",
    "    wine = pd.read_csv(file_name)\n",
    "except FileNotFoundError:\n",
    "    print(f'Downloading {file_name} from {url}...')\n",
    "    wine = pd.read_csv(url, sep=\";\")\n",
    "    wine.to_csv(file_name, index=False)\n",
    "    print('Download Complete')"
   ]
  },
  {
   "cell_type": "code",
   "execution_count": 7,
   "id": "bd5fa204-9258-4473-a980-fcb5e106bea5",
   "metadata": {},
   "outputs": [],
   "source": [
    "summary = wine.describe().transpose().round(2)"
   ]
  },
  {
   "cell_type": "code",
   "execution_count": 8,
   "id": "a478d890-4166-46a8-aa70-e12407f95cec",
   "metadata": {},
   "outputs": [],
   "source": [
    "summary = summary.drop(\"count\", axis=1)"
   ]
  },
  {
   "cell_type": "code",
   "execution_count": 9,
   "id": "4ad25a9a-3b4d-48d4-9a6c-ba59d381936e",
   "metadata": {},
   "outputs": [],
   "source": [
    "# Setting Markdown Table Up\n",
    "markdown_table = tabulate(\n",
    "    summary, headers='keys', tablefmt='pipe'\n",
    ")"
   ]
  },
  {
   "cell_type": "code",
   "execution_count": 10,
   "id": "b7407230-3fa0-4c71-bd7f-228b922d7ec3",
   "metadata": {},
   "outputs": [
    {
     "name": "stdout",
     "output_type": "stream",
     "text": [
      "|                      |   mean |   std |   min |    25% |    50% |    75% |    max |\n",
      "|:---------------------|-------:|------:|------:|-------:|-------:|-------:|-------:|\n",
      "| fixed acidity        |   6.85 |  0.84 |  3.8  |   6.3  |   6.8  |   7.3  |  14.2  |\n",
      "| volatile acidity     |   0.28 |  0.1  |  0.08 |   0.21 |   0.26 |   0.32 |   1.1  |\n",
      "| citric acid          |   0.33 |  0.12 |  0    |   0.27 |   0.32 |   0.39 |   1.66 |\n",
      "| residual sugar       |   6.39 |  5.07 |  0.6  |   1.7  |   5.2  |   9.9  |  65.8  |\n",
      "| chlorides            |   0.05 |  0.02 |  0.01 |   0.04 |   0.04 |   0.05 |   0.35 |\n",
      "| free sulfur dioxide  |  35.31 | 17.01 |  2    |  23    |  34    |  46    | 289    |\n",
      "| total sulfur dioxide | 138.36 | 42.5  |  9    | 108    | 134    | 167    | 440    |\n",
      "| density              |   0.99 |  0    |  0.99 |   0.99 |   0.99 |   1    |   1.04 |\n",
      "| pH                   |   3.19 |  0.15 |  2.72 |   3.09 |   3.18 |   3.28 |   3.82 |\n",
      "| sulphates            |   0.49 |  0.11 |  0.22 |   0.41 |   0.47 |   0.55 |   1.08 |\n",
      "| alcohol              |  10.51 |  1.23 |  8    |   9.5  |  10.4  |  11.4  |  14.2  |\n",
      "| quality              |   5.88 |  0.89 |  3    |   5    |   6    |   6    |   9    |\n"
     ]
    }
   ],
   "source": [
    "print(markdown_table)"
   ]
  },
  {
   "cell_type": "markdown",
   "id": "ab9d7e5e-bd0d-4108-8ac1-a66568809df6",
   "metadata": {},
   "source": [
    "### Fitting a Linear Regression Model"
   ]
  },
  {
   "cell_type": "code",
   "execution_count": null,
   "id": "a202176f-8e02-46a9-b5b1-1151ec653e6d",
   "metadata": {},
   "outputs": [],
   "source": []
  }
 ],
 "metadata": {
  "kernelspec": {
   "display_name": "Python 3 (ipykernel)",
   "language": "python",
   "name": "python3"
  },
  "language_info": {
   "codemirror_mode": {
    "name": "ipython",
    "version": 3
   },
   "file_extension": ".py",
   "mimetype": "text/x-python",
   "name": "python",
   "nbconvert_exporter": "python",
   "pygments_lexer": "ipython3",
   "version": "3.12.9"
  }
 },
 "nbformat": 4,
 "nbformat_minor": 5
}
