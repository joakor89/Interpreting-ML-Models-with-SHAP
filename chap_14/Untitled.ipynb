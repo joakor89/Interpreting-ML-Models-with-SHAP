{
 "cells": [
  {
   "cell_type": "markdown",
   "id": "1ddfd4d9-f69c-46a7-9638-8819849b2481",
   "metadata": {},
   "source": [
    "# Deep & Gradient Explainer\n",
    "\n",
    "### Loading Libraries"
   ]
  },
  {
   "cell_type": "code",
   "execution_count": 1,
   "id": "e91669e5-7a41-42fd-90f5-555653c17f89",
   "metadata": {},
   "outputs": [
    {
     "name": "stderr",
     "output_type": "stream",
     "text": [
      "/opt/anaconda3/envs/ml-explain/lib/python3.10/site-packages/requests/__init__.py:86: RequestsDependencyWarning: Unable to find acceptable character detection dependency (chardet or charset_normalizer).\n",
      "  warnings.warn(\n"
     ]
    }
   ],
   "source": [
    "# Numerical Computing\n",
    "import numpy as np\n",
    "\n",
    "# Data Manipulation\n",
    "import pandas as pd\n",
    "\n",
    "# Data Visualization\n",
    "import seaborn as sns\n",
    "import matplotlib.pyplot as plt\n",
    "\n",
    "# SHAP\n",
    "import shap\n",
    "\n",
    "# Time \n",
    "import time\n",
    "\n",
    "# Tabulate\n",
    "from tabulate import tabulate\n",
    "\n",
    "# Java Script Object Notation\n",
    "import json\n",
    "\n",
    "# TensorFlow\n",
    "import cv2\n",
    "import tensorflow as tf\n",
    "from tensorflow.keras.datasets import mnist\n",
    "from tensorflow.keras.models import Sequential\n",
    "from tensorflow.keras.layers import Dense, Dropout, Flatten, Conv2D, MaxPooling2D\n",
    "from tensorflow.keras.utils import to_categorical"
   ]
  },
  {
   "cell_type": "markdown",
   "id": "056af0e9-7fdb-45d9-b502-3887139e915a",
   "metadata": {},
   "source": [
    "### Loading Data"
   ]
  },
  {
   "cell_type": "code",
   "execution_count": 2,
   "id": "0cbd2ae4-bb82-4523-a59b-2959fb3a6f48",
   "metadata": {},
   "outputs": [],
   "source": [
    "(x_train, y_train), (x_test, y_test) = mnist.load_data()"
   ]
  },
  {
   "cell_type": "markdown",
   "id": "cf18e6e8-d4ba-4173-a26d-cb2e802cc72e",
   "metadata": {},
   "source": [
    "### Preprocessing Data"
   ]
  },
  {
   "cell_type": "code",
   "execution_count": 3,
   "id": "c78f91b5-e62a-482c-8983-16cc3d9c62ef",
   "metadata": {},
   "outputs": [],
   "source": [
    "# Shape\n",
    "# x_train = x_train.reshape(x_train.shape[0], 28, 28, 1)\n",
    "# x_test = x_test.reshape(x_test.shape[0], 28, 28, 1)\n",
    "\n",
    "x_train = x_train.reshape(-1, 28, 28, 1).astype('float32') / 255\n",
    "x_test = x_test.reshape(-1, 28, 28, 1).astype('float32') / 255\n",
    "\n",
    "# Storage\n",
    "# x_train = x_train.astype('float32') / 255\n",
    "# x_test = x_test.astype('float32') / 255\n",
    "\n",
    "y_train = to_categorical(y_train, 10)\n",
    "y_test = to_categorical(y_test, 10)"
   ]
  },
  {
   "cell_type": "markdown",
   "id": "b8207a69-b624-4c7e-aaf4-859375e2157d",
   "metadata": {},
   "source": [
    "### Model Architecture"
   ]
  },
  {
   "cell_type": "code",
   "execution_count": 4,
   "id": "eafc9315-20a8-49d3-8f81-5b25db17fc66",
   "metadata": {},
   "outputs": [
    {
     "name": "stderr",
     "output_type": "stream",
     "text": [
      "2025-05-23 09:28:49.461131: I metal_plugin/src/device/metal_device.cc:1154] Metal device set to: Apple M4 Max\n",
      "2025-05-23 09:28:49.461172: I metal_plugin/src/device/metal_device.cc:296] systemMemory: 36.00 GB\n",
      "2025-05-23 09:28:49.461181: I metal_plugin/src/device/metal_device.cc:313] maxCacheSize: 13.50 GB\n",
      "2025-05-23 09:28:49.461226: I tensorflow/core/common_runtime/pluggable_device/pluggable_device_factory.cc:306] Could not identify NUMA node of platform GPU ID 0, defaulting to 0. Your kernel may not have been built with NUMA support.\n",
      "2025-05-23 09:28:49.461250: I tensorflow/core/common_runtime/pluggable_device/pluggable_device_factory.cc:272] Created TensorFlow device (/job:localhost/replica:0/task:0/device:GPU:0 with 0 MB memory) -> physical PluggableDevice (device: 0, name: METAL, pci bus id: <undefined>)\n"
     ]
    }
   ],
   "source": [
    "model = Sequential()\n",
    "\n",
    "model.add(Conv2D(\n",
    "    32, \n",
    "    kernel_size = (3, 3),\n",
    "    activation='relu',\n",
    "    input_shape=(28, 28, 1)\n",
    "))\n",
    "\n",
    "model.add(MaxPooling2D(pool_size=(2, 2)))\n",
    "model.add(Dropout(0.25))\n",
    "model.add(Flatten())\n",
    "model.add(Dense(128, activation='relu'))\n",
    "model.add(Dropout(0.5))\n",
    "model.add(Dense(10, activation='softmax'))"
   ]
  },
  {
   "cell_type": "markdown",
   "id": "47bf36fe-21af-4b97-b2b5-d8d5f28e8009",
   "metadata": {},
   "source": [
    "### Compiling model"
   ]
  },
  {
   "cell_type": "code",
   "execution_count": 5,
   "id": "8d29095c-881c-48cc-9600-61d1d52346af",
   "metadata": {},
   "outputs": [],
   "source": [
    "model.compile(\n",
    "    loss='categorical_crossentropy',\n",
    "    optimizer='adam',\n",
    "    metrics=['accuracy']\n",
    ")"
   ]
  },
  {
   "cell_type": "markdown",
   "id": "50ec3f09-489d-4b79-b5bf-0ec5bee40d1f",
   "metadata": {},
   "source": [
    "### Training Model"
   ]
  },
  {
   "cell_type": "code",
   "execution_count": 6,
   "id": "52b0a9b3-0e0b-4360-b913-4caf677fb974",
   "metadata": {},
   "outputs": [
    {
     "name": "stdout",
     "output_type": "stream",
     "text": [
      "Epoch 1/5\n"
     ]
    },
    {
     "name": "stderr",
     "output_type": "stream",
     "text": [
      "2025-05-23 09:28:52.696777: I tensorflow/core/grappler/optimizers/custom_graph_optimizer_registry.cc:117] Plugin optimizer for device_type GPU is enabled.\n"
     ]
    },
    {
     "name": "stdout",
     "output_type": "stream",
     "text": [
      "469/469 [==============================] - 6s 7ms/step - loss: 0.3248 - accuracy: 0.9009 - val_loss: 0.1048 - val_accuracy: 0.9685\n",
      "Epoch 2/5\n",
      "469/469 [==============================] - 3s 7ms/step - loss: 0.1408 - accuracy: 0.9591 - val_loss: 0.0782 - val_accuracy: 0.9749\n",
      "Epoch 3/5\n",
      "469/469 [==============================] - 3s 7ms/step - loss: 0.1195 - accuracy: 0.9647 - val_loss: 0.0741 - val_accuracy: 0.9766\n",
      "Epoch 4/5\n",
      "469/469 [==============================] - 3s 7ms/step - loss: 0.1177 - accuracy: 0.9665 - val_loss: 0.0663 - val_accuracy: 0.9792\n",
      "Epoch 5/5\n",
      "469/469 [==============================] - 3s 7ms/step - loss: 0.1160 - accuracy: 0.9681 - val_loss: 0.0656 - val_accuracy: 0.9806\n"
     ]
    }
   ],
   "source": [
    "model.fit(\n",
    "    x_train,\n",
    "    y_train, \n",
    "    batch_size=128,\n",
    "    epochs=5,\n",
    "    validation_data=(x_test, y_test)\n",
    ")\n",
    "\n",
    "score = model.evaluate(x_test, y_test, verbose=0)"
   ]
  },
  {
   "cell_type": "code",
   "execution_count": 7,
   "id": "f9db7157-179c-4c17-9643-155d4be51759",
   "metadata": {},
   "outputs": [
    {
     "name": "stdout",
     "output_type": "stream",
     "text": [
      "Test Loss 0.06563220173120499\n",
      "Test Accuracy 0.9805999994277954\n"
     ]
    }
   ],
   "source": [
    "print('Test Loss', score[0])\n",
    "\n",
    "print('Test Accuracy', score[1])"
   ]
  },
  {
   "cell_type": "markdown",
   "id": "8300baf8-8475-4ba5-beda-1e5b96a8de76",
   "metadata": {},
   "source": [
    "### Computign SHAP Values with The Gradient Explainer"
   ]
  },
  {
   "cell_type": "code",
   "execution_count": 8,
   "id": "4f5d3aed-ad3a-4546-8dec-518489bbe9a7",
   "metadata": {},
   "outputs": [],
   "source": [
    "x_sample = shap.sample(x_train, 500)\n",
    "\n",
    "explainer = shap.GradientExplainer(model, data=x_sample)"
   ]
  },
  {
   "cell_type": "code",
   "execution_count": 9,
   "id": "79183a61-aa69-4f64-a229-476c74c975ef",
   "metadata": {},
   "outputs": [
    {
     "name": "stderr",
     "output_type": "stream",
     "text": [
      "/opt/anaconda3/envs/ml-explain/lib/python3.10/site-packages/keras/src/backend.py:452: UserWarning: `tf.keras.backend.set_learning_phase` is deprecated and will be removed after 2020-10-11. To update it, simply pass a True/False value to the `training` argument of the `__call__` method of your layer or model.\n",
      "  warnings.warn(\n"
     ]
    }
   ],
   "source": [
    "start_time = time.time()\n",
    "shap_values = explainer.shap_values(x_test[:3])\n",
    "gradient_time = time.time() - start_time"
   ]
  },
  {
   "cell_type": "code",
   "execution_count": 10,
   "id": "45323b29-4332-4ad1-b766-f5aa50abee58",
   "metadata": {},
   "outputs": [
    {
     "name": "stdout",
     "output_type": "stream",
     "text": [
      "3\n"
     ]
    }
   ],
   "source": [
    "print(len(shap_values))"
   ]
  },
  {
   "cell_type": "code",
   "execution_count": 11,
   "id": "58bfd519-c827-4cea-9839-0154b854f62a",
   "metadata": {},
   "outputs": [
    {
     "name": "stdout",
     "output_type": "stream",
     "text": [
      "(28, 28, 1, 10)\n"
     ]
    }
   ],
   "source": [
    "print(shap_values[0].shape)"
   ]
  },
  {
   "cell_type": "code",
   "execution_count": 12,
   "id": "4e4aadce-0104-4b58-9d16-fe41f0f340a6",
   "metadata": {},
   "outputs": [
    {
     "data": {
      "image/png": "[encoded data removed]",
      "text/plain": [
       "<Figure size 600x1000 with 7 Axes>"
      ]
     },
     "metadata": {},
     "output_type": "display_data"
    }
   ],
   "source": [
    "shap.image_plot(shap_values, x_test[:3])"
   ]
  },
  {
   "cell_type": "markdown",
   "id": "2c8b17f7-9b28-4c8a-b533-ce4af07adb78",
   "metadata": {},
   "source": [
    "### SHAP with The Deep Explainer"
   ]
  },
  {
   "cell_type": "code",
   "execution_count": 13,
   "id": "3ce82c36-cac8-4c64-bf5c-cb85440dad1a",
   "metadata": {},
   "outputs": [
    {
     "name": "stderr",
     "output_type": "stream",
     "text": [
      "/opt/anaconda3/envs/ml-explain/lib/python3.10/site-packages/shap/explainers/_deep/deep_tf.py:94: UserWarning: Your TensorFlow version is newer than 2.4.0 and so graph support has been removed in eager mode and some static graphs may not be supported. See PR #1483 for discussion.\n",
      "  warnings.warn(\n"
     ]
    },
    {
     "name": "stdout",
     "output_type": "stream",
     "text": [
      "WARNING:tensorflow:5 out of the last 13 calls to <function TFDeep.phi_symbolic.<locals>.grad_graph at 0x3b6fc0dc0> triggered tf.function retracing. Tracing is expensive and the excessive number of tracings could be due to (1) creating @tf.function repeatedly in a loop, (2) passing tensors with different shapes, (3) passing Python objects instead of tensors. For (1), please define your @tf.function outside of the loop. For (2), @tf.function has reduce_retracing=True option that can avoid unnecessary retracing. For (3), please refer to https://www.tensorflow.org/guide/function#controlling_retracing and https://www.tensorflow.org/api_docs/python/tf/function for  more details.\n",
      "WARNING:tensorflow:5 out of the last 13 calls to <function TFDeep.phi_symbolic.<locals>.grad_graph at 0x3b6fc3910> triggered tf.function retracing. Tracing is expensive and the excessive number of tracings could be due to (1) creating @tf.function repeatedly in a loop, (2) passing tensors with different shapes, (3) passing Python objects instead of tensors. For (1), please define your @tf.function outside of the loop. For (2), @tf.function has reduce_retracing=True option that can avoid unnecessary retracing. For (3), please refer to https://www.tensorflow.org/guide/function#controlling_retracing and https://www.tensorflow.org/api_docs/python/tf/function for  more details.\n"
     ]
    }
   ],
   "source": [
    "explainer = shap.DeepExplainer(model, data = x_sample)\n",
    "start_time = time.time()\n",
    "shap_values = explainer.shap_values(x_test[:3])\n",
    "deep_time = time.time() - start_time "
   ]
  },
  {
   "cell_type": "code",
   "execution_count": 14,
   "id": "274b3cd6-3297-4ce9-9a9f-aa6aef7419a1",
   "metadata": {},
   "outputs": [
    {
     "data": {
      "image/png": "[encoded data removed]",
      "text/plain": [
       "<Figure size 600x1000 with 7 Axes>"
      ]
     },
     "metadata": {},
     "output_type": "display_data"
    }
   ],
   "source": [
    "shap.image_plot(shap_values, x_test[:3])"
   ]
  },
  {
   "cell_type": "markdown",
   "id": "615ddeda-725d-4a80-97f8-234458d1710a",
   "metadata": {},
   "source": [
    "### Time Comparison "
   ]
  },
  {
   "cell_type": "code",
   "execution_count": 15,
   "id": "e1d4aebd-e96e-446a-bea2-459f3845577b",
   "metadata": {},
   "outputs": [
    {
     "name": "stdout",
     "output_type": "stream",
     "text": [
      "Gradient Explainer 1.11\n",
      "Deep Explainer 2.85\n"
     ]
    }
   ],
   "source": [
    "print('Gradient Explainer', round(gradient_time, 2))\n",
    "print('Deep Explainer', round(deep_time, 2))"
   ]
  },
  {
   "cell_type": "code",
   "execution_count": null,
   "id": "33f76f77-f7d7-4859-8cef-b6849f924b1a",
   "metadata": {},
   "outputs": [],
   "source": []
  }
 ],
 "metadata": {
  "kernelspec": {
   "display_name": "Python 3 (ipykernel)",
   "language": "python",
   "name": "python3"
  },
  "language_info": {
   "codemirror_mode": {
    "name": "ipython",
    "version": 3
   },
   "file_extension": ".py",
   "mimetype": "text/x-python",
   "name": "python",
   "nbconvert_exporter": "python",
   "pygments_lexer": "ipython3",
   "version": "3.10.16"
  }
 },
 "nbformat": 4,
 "nbformat_minor": 5
}
