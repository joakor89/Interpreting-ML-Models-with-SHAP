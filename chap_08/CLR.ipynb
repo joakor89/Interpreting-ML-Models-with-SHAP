{
 "cells": [
  {
   "cell_type": "markdown",
   "id": "2b1ec28a-682b-4774-870e-8c0309385b9a",
   "metadata": {},
   "source": [
    "# Classification with Logistic Regression\n",
    "\n",
    "### Loading Libraries"
   ]
  },
  {
   "cell_type": "code",
   "execution_count": 2,
   "id": "bfb186de-4a49-4bd7-a107-37f9fcc649a3",
   "metadata": {},
   "outputs": [],
   "source": [
    "# Numerical Computing\n",
    "import numpy as np\n",
    "\n",
    "# Data Manipulation\n",
    "import pandas as pd\n",
    "import matplotlib.pyplot as plt\n",
    "\n",
    "# Data Visualization\n",
    "import seaborn as sns\n",
    "\n",
    "# SHAP\n",
    "import shap\n",
    "\n",
    "# Tabulate\n",
    "from tabulate import tabulate\n",
    "\n",
    "# Scikit-Learn\n",
    "from sklearn.pipeline import Pipeline\n",
    "from sklearn.compose import ColumnTransformer\n",
    "from sklearn.linear_model import LogisticRegression\n",
    "from sklearn.model_selection import train_test_split\n",
    "from sklearn.preprocessing import OneHotEncoder, StandardScaler"
   ]
  },
  {
   "cell_type": "markdown",
   "id": "ac59d17c-4d6d-4b96-ba91-d659b47d6b11",
   "metadata": {},
   "source": [
    "### The Adult Dataset\n",
    "\n",
    "#### Retreiving & Loading Data"
   ]
  },
  {
   "cell_type": "code",
   "execution_count": 3,
   "id": "20f7adb9-a4f4-48ad-b31a-f4d7fbd9d24b",
   "metadata": {},
   "outputs": [],
   "source": [
    "X, y = shap.datasets.adult()"
   ]
  },
  {
   "cell_type": "code",
   "execution_count": 4,
   "id": "17a4dccb-dd1d-4113-887b-19ac9c6c0b33",
   "metadata": {},
   "outputs": [],
   "source": [
    "# Splitting Procedure\n",
    "X_train, X_test, y_train, y_test = train_test_split(\n",
    "    X,\n",
    "    y, \n",
    "    test_size = 0.2,\n",
    "    random_state=1\n",
    ")"
   ]
  },
  {
   "cell_type": "markdown",
   "id": "1c5ada5a-b068-4f77-aed1-0e6f3cf2fa3f",
   "metadata": {},
   "source": [
    "#### Categorical & Numerical Features"
   ]
  },
  {
   "cell_type": "code",
   "execution_count": null,
   "id": "26463dd4-b7a9-4336-a253-bd29d10508ae",
   "metadata": {},
   "outputs": [],
   "source": []
  },
  {
   "cell_type": "code",
   "execution_count": null,
   "id": "a41a95d8-b132-45d8-8ccf-a699037b5112",
   "metadata": {},
   "outputs": [],
   "source": []
  },
  {
   "cell_type": "code",
   "execution_count": null,
   "id": "856494db-5bdb-4cde-93f9-2b0db46f5442",
   "metadata": {},
   "outputs": [],
   "source": []
  },
  {
   "cell_type": "code",
   "execution_count": null,
   "id": "465c4b99-a602-48b6-97cf-d113e490df6f",
   "metadata": {},
   "outputs": [],
   "source": []
  },
  {
   "cell_type": "code",
   "execution_count": null,
   "id": "e9e0a271-a7fa-495f-a1a7-8c0a7808223f",
   "metadata": {},
   "outputs": [],
   "source": []
  },
  {
   "cell_type": "code",
   "execution_count": null,
   "id": "43287fee-a519-4c74-a8ef-059a5a314e93",
   "metadata": {},
   "outputs": [],
   "source": []
  },
  {
   "cell_type": "code",
   "execution_count": null,
   "id": "645fcd6e-9626-4c51-a03c-5e5825e0b43f",
   "metadata": {},
   "outputs": [],
   "source": []
  },
  {
   "cell_type": "code",
   "execution_count": null,
   "id": "1ea6a7d5-d922-497c-8b77-922d7ed0774e",
   "metadata": {},
   "outputs": [],
   "source": []
  },
  {
   "cell_type": "code",
   "execution_count": null,
   "id": "c8ac6489-81d1-4b8e-9c15-0189d64b61b4",
   "metadata": {},
   "outputs": [],
   "source": []
  },
  {
   "cell_type": "code",
   "execution_count": null,
   "id": "92258967-57a6-4f10-a82b-d2e572eb2d1d",
   "metadata": {},
   "outputs": [],
   "source": []
  },
  {
   "cell_type": "code",
   "execution_count": null,
   "id": "d3e74118-5fb6-42c8-a6e1-cd026e20e252",
   "metadata": {},
   "outputs": [],
   "source": []
  },
  {
   "cell_type": "code",
   "execution_count": null,
   "id": "fe09818d-3b8e-4294-baa5-b11f34433fdf",
   "metadata": {},
   "outputs": [],
   "source": []
  },
  {
   "cell_type": "code",
   "execution_count": null,
   "id": "43360d85-5d9a-404a-8fed-d323823fec07",
   "metadata": {},
   "outputs": [],
   "source": []
  },
  {
   "cell_type": "code",
   "execution_count": null,
   "id": "592b45b5-9452-4675-a82d-866c8151b24f",
   "metadata": {},
   "outputs": [],
   "source": []
  },
  {
   "cell_type": "code",
   "execution_count": null,
   "id": "1885d652-8ed9-436a-a790-8cef82f82765",
   "metadata": {},
   "outputs": [],
   "source": []
  },
  {
   "cell_type": "code",
   "execution_count": null,
   "id": "142169a1-4baa-4886-a727-37c0548fa080",
   "metadata": {},
   "outputs": [],
   "source": []
  },
  {
   "cell_type": "code",
   "execution_count": null,
   "id": "0e4911a3-de81-4c3e-864b-750a1296fb52",
   "metadata": {},
   "outputs": [],
   "source": []
  },
  {
   "cell_type": "code",
   "execution_count": null,
   "id": "91c8cf7f-ad57-4844-9278-6772285ab77b",
   "metadata": {},
   "outputs": [],
   "source": []
  },
  {
   "cell_type": "code",
   "execution_count": null,
   "id": "cf2872d7-a0b6-4df5-9db5-dd5b309435ce",
   "metadata": {},
   "outputs": [],
   "source": []
  },
  {
   "cell_type": "code",
   "execution_count": null,
   "id": "0d369f03-958b-4a64-9a42-e66be768b8af",
   "metadata": {},
   "outputs": [],
   "source": []
  },
  {
   "cell_type": "code",
   "execution_count": null,
   "id": "1917d9d4-53c3-484d-9fa7-ea3b97af4d25",
   "metadata": {},
   "outputs": [],
   "source": []
  },
  {
   "cell_type": "code",
   "execution_count": null,
   "id": "3e1a824c-f458-43ab-9dfa-c3df3cc88b03",
   "metadata": {},
   "outputs": [],
   "source": []
  }
 ],
 "metadata": {
  "kernelspec": {
   "display_name": "Python 3 (ipykernel)",
   "language": "python",
   "name": "python3"
  },
  "language_info": {
   "codemirror_mode": {
    "name": "ipython",
    "version": 3
   },
   "file_extension": ".py",
   "mimetype": "text/x-python",
   "name": "python",
   "nbconvert_exporter": "python",
   "pygments_lexer": "ipython3",
   "version": "3.12.9"
  }
 },
 "nbformat": 4,
 "nbformat_minor": 5
}
