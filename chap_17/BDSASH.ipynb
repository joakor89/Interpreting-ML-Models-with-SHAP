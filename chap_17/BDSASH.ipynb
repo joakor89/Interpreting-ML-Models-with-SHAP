{
 "cells": [
  {
   "cell_type": "markdown",
   "id": "8bf554e0-b1bb-4833-b3ae-dbbabfe37383",
   "metadata": {},
   "source": [
    "# Building SHAP Dashborads with SHAPASH\n",
    "\n",
    "### Loading Libraries"
   ]
  },
  {
   "cell_type": "code",
   "execution_count": null,
   "id": "bc87c4c6-2a6f-4d28-bb7c-f61d814f2e86",
   "metadata": {},
   "outputs": [],
   "source": [
    "# Numerical Computing\n",
    "import numpy as np\n",
    "\n",
    "# Data Manipulation\n",
    "import pandas as pd\n",
    "\n",
    "# Data Visualization\n",
    "import seaborn as sns\n",
    "import matplotlib.pyplot as plt\n",
    "\n",
    "# SHAP\n",
    "import shap\n",
    "\n",
    "# Time \n",
    "import time\n",
    "\n",
    "# Tabulate\n",
    "from tabulate import tabulate\n",
    "\n",
    "# Java Script Object Notation\n",
    "import json\n",
    "\n",
    "# Scikit-Learn\n",
    "import sklearn\n",
    "from sklearn.model_selection import train_test_split\n",
    "\n",
    "#Light Gradient Boost \n",
    "from lightgbm import LGBMRegressor\n",
    "\n",
    "# ShapAsh\n",
    "import shapash\n",
    "\n",
    "# TensorFlow\n",
    "import cv2\n",
    "import tensorflow as tf\n",
    "\n",
    "# Transformers\n",
    "from transformers import pipeline\n",
    "from transformers import AutoTokenizer, AutoModelForCausalLM\n",
    "\n",
    "# PyTorch\n",
    "import torch"
   ]
  },
  {
   "cell_type": "markdown",
   "id": "ee7a0344-de93-44c7-ba3c-488f416bb535",
   "metadata": {},
   "source": [
    "#### Loading Dataset"
   ]
  },
  {
   "cell_type": "code",
   "execution_count": null,
   "id": "1d39f4b9-7b23-478f-9e94-b70ecad0ba30",
   "metadata": {},
   "outputs": [],
   "source": [
    "X, y = shap.datasets.california()\n",
    "\n",
    "X_train, X_test, y_train, y_test = train_test_split(\n",
    "    X,\n",
    "    y, train_size = 0.8,\n",
    "    random_state=1\n",
    ")"
   ]
  },
  {
   "cell_type": "code",
   "execution_count": null,
   "id": "a0d3ddcb-a6d9-4d58-941c-3e6b570507f6",
   "metadata": {},
   "outputs": [],
   "source": []
  },
  {
   "cell_type": "code",
   "execution_count": null,
   "id": "19d44f5c-437d-4805-9727-dfa62d32668e",
   "metadata": {},
   "outputs": [],
   "source": []
  },
  {
   "cell_type": "code",
   "execution_count": null,
   "id": "9af25d81-6daf-400a-b80e-d7dcca6652f3",
   "metadata": {},
   "outputs": [],
   "source": []
  },
  {
   "cell_type": "code",
   "execution_count": null,
   "id": "861c066b-2225-4b58-bf9a-66ccc50c1acb",
   "metadata": {},
   "outputs": [],
   "source": []
  }
 ],
 "metadata": {
  "kernelspec": {
   "display_name": "Python 3 (ipykernel)",
   "language": "python",
   "name": "python3"
  },
  "language_info": {
   "codemirror_mode": {
    "name": "ipython",
    "version": 3
   },
   "file_extension": ".py",
   "mimetype": "text/x-python",
   "name": "python",
   "nbconvert_exporter": "python",
   "pygments_lexer": "ipython3",
   "version": "3.10.16"
  }
 },
 "nbformat": 4,
 "nbformat_minor": 5
}
