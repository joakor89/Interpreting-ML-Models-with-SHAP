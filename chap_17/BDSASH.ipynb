{
 "cells": [
  {
   "cell_type": "markdown",
   "id": "8bf554e0-b1bb-4833-b3ae-dbbabfe37383",
   "metadata": {},
   "source": [
    "# Building SHAP Dashborads with SHAPASH\n",
    "\n",
    "### Loading Libraries"
   ]
  },
  {
   "cell_type": "code",
   "execution_count": 2,
   "id": "bc87c4c6-2a6f-4d28-bb7c-f61d814f2e86",
   "metadata": {},
   "outputs": [
    {
     "name": "stderr",
     "output_type": "stream",
     "text": [
      "/opt/anaconda3/envs/ml-explain/lib/python3.10/site-packages/requests/__init__.py:86: RequestsDependencyWarning: Unable to find acceptable character detection dependency (chardet or charset_normalizer).\n",
      "  warnings.warn(\n"
     ]
    }
   ],
   "source": [
    "# Numerical Computing\n",
    "import numpy as np\n",
    "\n",
    "# Data Manipulation\n",
    "import pandas as pd\n",
    "\n",
    "# Data Visualization\n",
    "import seaborn as sns\n",
    "import matplotlib.pyplot as plt\n",
    "\n",
    "# SHAP\n",
    "import shap\n",
    "\n",
    "# Time \n",
    "import time\n",
    "\n",
    "# Tabulate\n",
    "from tabulate import tabulate\n",
    "\n",
    "# Java Script Object Notation\n",
    "import json\n",
    "\n",
    "# Scikit-Learn\n",
    "import sklearn\n",
    "from sklearn.model_selection import train_test_split\n",
    "\n",
    "#Light Gradient Boost \n",
    "from lightgbm import LGBMRegressor\n",
    "\n",
    "# ShapAsh\n",
    "import shapash\n",
    "\n",
    "# TensorFlow\n",
    "import cv2\n",
    "import tensorflow as tf\n",
    "\n",
    "# Transformers\n",
    "from transformers import pipeline\n",
    "from transformers import AutoTokenizer, AutoModelForCausalLM\n",
    "\n",
    "# PyTorch\n",
    "import torch"
   ]
  },
  {
   "cell_type": "markdown",
   "id": "ee7a0344-de93-44c7-ba3c-488f416bb535",
   "metadata": {},
   "source": [
    "#### Loading Dataset"
   ]
  },
  {
   "cell_type": "code",
   "execution_count": 3,
   "id": "1d39f4b9-7b23-478f-9e94-b70ecad0ba30",
   "metadata": {},
   "outputs": [
    {
     "name": "stderr",
     "output_type": "stream",
     "text": [
      "INFO:sklearn.datasets._california_housing:Downloading Cal. housing from https://ndownloader.figshare.com/files/5976036 to /Users/joaquinromero/scikit_learn_data\n"
     ]
    }
   ],
   "source": [
    "X, y = shap.datasets.california()\n",
    "\n",
    "X_train, X_test, y_train, y_test = train_test_split(\n",
    "    X,\n",
    "    y, train_size = 0.8,\n",
    "    random_state=1)"
   ]
  },
  {
   "cell_type": "markdown",
   "id": "848f56e2-ff00-4401-b061-8223f20d6699",
   "metadata": {},
   "source": [
    "### Training Model"
   ]
  },
  {
   "cell_type": "code",
   "execution_count": 4,
   "id": "19d44f5c-437d-4805-9727-dfa62d32668e",
   "metadata": {},
   "outputs": [
    {
     "name": "stdout",
     "output_type": "stream",
     "text": [
      "[LightGBM] [Info] Auto-choosing col-wise multi-threading, the overhead of testing was 0.000498 seconds.\n",
      "You can set `force_col_wise=true` to remove the overhead.\n",
      "[LightGBM] [Info] Total Bins 1838\n",
      "[LightGBM] [Info] Number of data points in the train set: 16512, number of used features: 8\n",
      "[LightGBM] [Info] Start training from score 2.077351\n"
     ]
    }
   ],
   "source": [
    "# Placing & Fitting Model\n",
    "model = LGBMRegressor(n_estimators=100).fit(X_train, y_train)"
   ]
  },
  {
   "cell_type": "code",
   "execution_count": 5,
   "id": "9af25d81-6daf-400a-b80e-d7dcca6652f3",
   "metadata": {},
   "outputs": [],
   "source": [
    "y_pred = pd.DataFrame(\n",
    "    model.predict(X_test),\n",
    "    columns=['pred'], \n",
    "    index=X_test.index)"
   ]
  },
  {
   "cell_type": "code",
   "execution_count": 7,
   "id": "861c066b-2225-4b58-bf9a-66ccc50c1acb",
   "metadata": {},
   "outputs": [],
   "source": [
    "xpl = shapash.SmartExplainer(model=model)\n",
    "\n",
    "explainer = shap.Explainer(model, X_train)\n",
    "\n",
    "xpl.compile(y_pred=y_pred, x=X_test)"
   ]
  },
  {
   "cell_type": "code",
   "execution_count": 9,
   "id": "315f872a-5142-4e1c-94db-87ddb7bbe227",
   "metadata": {},
   "outputs": [],
   "source": [
    "app = xpl.run_app(title_story='California Housing', port=8020)"
   ]
  },
  {
   "cell_type": "markdown",
   "id": "9f25e135-c634-4d0b-89b6-fdd8297a44d7",
   "metadata": {},
   "source": [
    "#### Dashboard Overview"
   ]
  },
  {
   "cell_type": "code",
   "execution_count": 10,
   "id": "385d473e-31ed-4385-951d-4cc29c76bc5a",
   "metadata": {},
   "outputs": [],
   "source": [
    "app.kill()"
   ]
  },
  {
   "cell_type": "code",
   "execution_count": null,
   "id": "5242d219-8b10-43e0-8a96-76d4ec8e6d98",
   "metadata": {},
   "outputs": [],
   "source": []
  }
 ],
 "metadata": {
  "kernelspec": {
   "display_name": "Python 3 (ipykernel)",
   "language": "python",
   "name": "python3"
  },
  "language_info": {
   "codemirror_mode": {
    "name": "ipython",
    "version": 3
   },
   "file_extension": ".py",
   "mimetype": "text/x-python",
   "name": "python",
   "nbconvert_exporter": "python",
   "pygments_lexer": "ipython3",
   "version": "3.10.16"
  }
 },
 "nbformat": 4,
 "nbformat_minor": 5
}
